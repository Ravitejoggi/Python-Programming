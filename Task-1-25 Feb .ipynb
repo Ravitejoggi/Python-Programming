{
 "cells": [
  {
   "cell_type": "markdown",
   "id": "83c910c8-d969-4c6c-9002-292f78570793",
   "metadata": {},
   "source": [
    "Numbers - (+,-,*,**,/,//) Arthemic operators)"
   ]
  },
  {
   "cell_type": "code",
   "execution_count": 1,
   "id": "0fbbbedd-18f4-4305-b8d9-43aea7463219",
   "metadata": {},
   "outputs": [
    {
     "data": {
      "text/plain": [
       "32"
      ]
     },
     "execution_count": 1,
     "metadata": {},
     "output_type": "execute_result"
    }
   ],
   "source": [
    "16+16"
   ]
  },
  {
   "cell_type": "code",
   "execution_count": 4,
   "id": "9e2b7231-7768-4646-84a3-b406eca22209",
   "metadata": {},
   "outputs": [
    {
     "data": {
      "text/plain": [
       "19"
      ]
     },
     "execution_count": 4,
     "metadata": {},
     "output_type": "execute_result"
    }
   ],
   "source": [
    "48-29"
   ]
  },
  {
   "cell_type": "code",
   "execution_count": 10,
   "id": "77aa4211-ee21-4c02-867e-ed24ecf29aee",
   "metadata": {},
   "outputs": [
    {
     "data": {
      "text/plain": [
       "900"
      ]
     },
     "execution_count": 10,
     "metadata": {},
     "output_type": "execute_result"
    }
   ],
   "source": [
    "30*30"
   ]
  },
  {
   "cell_type": "code",
   "execution_count": 14,
   "id": "a70c9bbd-6870-44f7-81b8-b6597759c84d",
   "metadata": {},
   "outputs": [
    {
     "data": {
      "text/plain": [
       "4"
      ]
     },
     "execution_count": 14,
     "metadata": {},
     "output_type": "execute_result"
    }
   ],
   "source": [
    "2**2"
   ]
  },
  {
   "cell_type": "code",
   "execution_count": 16,
   "id": "9427a1fb-0a8f-41c1-a096-73b414612c6e",
   "metadata": {},
   "outputs": [
    {
     "data": {
      "text/plain": [
       "1.0"
      ]
     },
     "execution_count": 16,
     "metadata": {},
     "output_type": "execute_result"
    }
   ],
   "source": [
    "50/50"
   ]
  },
  {
   "cell_type": "code",
   "execution_count": 24,
   "id": "63ddf8f0-9681-4a46-9d34-826d936a2a86",
   "metadata": {},
   "outputs": [
    {
     "data": {
      "text/plain": [
       "1.25"
      ]
     },
     "execution_count": 24,
     "metadata": {},
     "output_type": "execute_result"
    }
   ],
   "source": [
    "25/20"
   ]
  },
  {
   "cell_type": "code",
   "execution_count": 26,
   "id": "5bcc6e75-28a7-4dd8-9c16-705ca8029f90",
   "metadata": {},
   "outputs": [
    {
     "data": {
      "text/plain": [
       "1"
      ]
     },
     "execution_count": 26,
     "metadata": {},
     "output_type": "execute_result"
    }
   ],
   "source": [
    "25//20"
   ]
  },
  {
   "cell_type": "markdown",
   "id": "782500dd-dff7-421d-9b26-04ec1eb728e5",
   "metadata": {},
   "source": [
    "String (Text)"
   ]
  },
  {
   "cell_type": "code",
   "execution_count": 29,
   "id": "124f1795-c1a2-486c-b326-481bb677da66",
   "metadata": {},
   "outputs": [
    {
     "data": {
      "text/plain": [
       "'Blessed'"
      ]
     },
     "execution_count": 29,
     "metadata": {},
     "output_type": "execute_result"
    }
   ],
   "source": [
    "'Blessed'"
   ]
  },
  {
   "cell_type": "code",
   "execution_count": 31,
   "id": "9e03fe46-4206-4277-8485-57a6abe071c4",
   "metadata": {},
   "outputs": [
    {
     "data": {
      "text/plain": [
       "'Rejoice'"
      ]
     },
     "execution_count": 31,
     "metadata": {},
     "output_type": "execute_result"
    }
   ],
   "source": [
    "\"Rejoice\""
   ]
  },
  {
   "cell_type": "code",
   "execution_count": 35,
   "id": "87dab296-7172-4335-967a-8b1edbc49feb",
   "metadata": {},
   "outputs": [
    {
     "data": {
      "text/plain": [
       "'\"Rapha\"'"
      ]
     },
     "execution_count": 35,
     "metadata": {},
     "output_type": "execute_result"
    }
   ],
   "source": [
    "'\"Rapha\"'"
   ]
  },
  {
   "cell_type": "markdown",
   "id": "d3186ae6-eaea-44d8-a9a5-279bd7c218a4",
   "metadata": {},
   "source": [
    "Variables=Value"
   ]
  },
  {
   "cell_type": "code",
   "execution_count": 43,
   "id": "4f194c77-5124-4d3a-9128-eef9b5c2cd5b",
   "metadata": {},
   "outputs": [
    {
     "data": {
      "text/plain": [
       "583099"
      ]
     },
     "execution_count": 43,
     "metadata": {},
     "output_type": "execute_result"
    }
   ],
   "source": [
    "vehicleno = 583099\n",
    "vehicleno\n"
   ]
  },
  {
   "cell_type": "code",
   "execution_count": 45,
   "id": "a31e0388-0fd0-4b69-b385-44ff066c4d2d",
   "metadata": {},
   "outputs": [
    {
     "name": "stdout",
     "output_type": "stream",
     "text": [
      "583099\n"
     ]
    }
   ],
   "source": [
    "print (vehicleno)"
   ]
  },
  {
   "cell_type": "code",
   "execution_count": 47,
   "id": "23205ed5-35ed-4c22-9d85-a17698dcee04",
   "metadata": {},
   "outputs": [],
   "source": [
    "vehiclemodel=\"mazda\""
   ]
  },
  {
   "cell_type": "code",
   "execution_count": 50,
   "id": "4d305e94-d5ab-4b69-95de-41e560108f59",
   "metadata": {},
   "outputs": [
    {
     "name": "stdout",
     "output_type": "stream",
     "text": [
      "mazda\n"
     ]
    }
   ],
   "source": [
    "print(vehiclemodel)"
   ]
  },
  {
   "cell_type": "code",
   "execution_count": 52,
   "id": "d0c61b08-8c9e-495e-9c73-5bf5c71b1820",
   "metadata": {},
   "outputs": [],
   "source": [
    "year=2020"
   ]
  },
  {
   "cell_type": "code",
   "execution_count": 56,
   "id": "3b4de956-fdc8-4278-a45a-fceb9d97afbb",
   "metadata": {},
   "outputs": [
    {
     "name": "stdout",
     "output_type": "stream",
     "text": [
      "583099\n",
      "mazda\n",
      "2020\n"
     ]
    }
   ],
   "source": [
    "print(vehicleno)\n",
    "print(vehiclemodel)\n",
    "print(year)"
   ]
  },
  {
   "cell_type": "code",
   "execution_count": null,
   "id": "d6c91e7f-eb01-447c-94bd-7e851b9b2c9a",
   "metadata": {},
   "outputs": [],
   "source": []
  }
 ],
 "metadata": {
  "kernelspec": {
   "display_name": "Python [conda env:base] *",
   "language": "python",
   "name": "conda-base-py"
  },
  "language_info": {
   "codemirror_mode": {
    "name": "ipython",
    "version": 3
   },
   "file_extension": ".py",
   "mimetype": "text/x-python",
   "name": "python",
   "nbconvert_exporter": "python",
   "pygments_lexer": "ipython3",
   "version": "3.12.7"
  }
 },
 "nbformat": 4,
 "nbformat_minor": 5
}
